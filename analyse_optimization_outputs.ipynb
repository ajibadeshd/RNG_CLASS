{
 "cells": [
  {
   "cell_type": "code",
   "execution_count": 1,
   "id": "865232ee",
   "metadata": {},
   "outputs": [
    {
     "name": "stdout",
     "output_type": "stream",
     "text": [
      "/home/saheed/research/optimize/SameVolumeCp2k\r\n"
     ]
    }
   ],
   "source": [
    "!pwd"
   ]
  },
  {
   "cell_type": "code",
   "execution_count": 2,
   "id": "ac62a546",
   "metadata": {},
   "outputs": [],
   "source": [
    "!ase db SameVolumePlusExact.db --csv --limit=0 > SameVolumePlusExact.csv"
   ]
  },
  {
   "cell_type": "code",
   "execution_count": 147,
   "id": "805c02cc",
   "metadata": {
    "scrolled": true
   },
   "outputs": [
    {
     "name": "stdout",
     "output_type": "stream",
     "text": [
      "/home/saheed/research/optimize/SameVolumeCp2k\n",
      "\n",
      "    WARNING:\n",
      "        You don't have jsmol on your system.\n",
      "\n",
      "        Download Jmol-*-binary.tar.gz from\n",
      "        https://sourceforge.net/projects/jmol/files/Jmol/,\n",
      "        extract jsmol.zip, unzip it and create a soft-link:\n",
      "\n",
      "            $ tar -xf Jmol-*-binary.tar.gz\n",
      "            $ unzip jmol-*/jsmol.zip\n",
      "            $ ln -s $PWD/jsmol /home/saheed/.local/lib/python3.8/site-packages/ase/db/static/jsmol\n",
      "    \n",
      " * Serving Flask app 'ase.db.app' (lazy loading)\n",
      " * Environment: production\n",
      "\u001b[31m   WARNING: This is a development server. Do not use it in a production deployment.\u001b[0m\n",
      "\u001b[2m   Use a production WSGI server instead.\u001b[0m\n",
      " * Debug mode: on\n",
      " * Running on all addresses.\n",
      "   WARNING: This is a development server. Do not use it in a production deployment.\n",
      " * Running on http://132.198.10.156:5000/ (Press CTRL+C to quit)\n",
      " * Restarting with watchdog (inotify)\n",
      "\n",
      "    WARNING:\n",
      "        You don't have jsmol on your system.\n",
      "\n",
      "        Download Jmol-*-binary.tar.gz from\n",
      "        https://sourceforge.net/projects/jmol/files/Jmol/,\n",
      "        extract jsmol.zip, unzip it and create a soft-link:\n",
      "\n",
      "            $ tar -xf Jmol-*-binary.tar.gz\n",
      "            $ unzip jmol-*/jsmol.zip\n",
      "            $ ln -s $PWD/jsmol /home/saheed/.local/lib/python3.8/site-packages/ase/db/static/jsmol\n",
      "    \n",
      " * Debugger is active!\n",
      " * Debugger PIN: 715-803-972\n",
      "132.198.10.156 - - [15/Jun/2022 10:56:10] \"GET / HTTP/1.1\" 200 -\n",
      "132.198.10.156 - - [15/Jun/2022 10:56:10] \"\u001b[36mGET /static/style.css HTTP/1.1\u001b[0m\" 304 -\n",
      "132.198.10.156 - - [15/Jun/2022 10:56:10] \"\u001b[36mGET /static/search.js HTTP/1.1\u001b[0m\" 304 -\n",
      "132.198.10.156 - - [15/Jun/2022 10:56:10] \"GET /update/1/query/0/?query= HTTP/1.1\" 200 -\n",
      "132.198.10.156 - - [15/Jun/2022 10:56:10] \"\u001b[35m\u001b[1mGET /favicon.ico/ HTTP/1.1\u001b[0m\" 204 -\n",
      "132.198.10.156 - - [15/Jun/2022 10:56:12] \"GET /update/1/page/2/?query= HTTP/1.1\" 200 -\n",
      "132.198.10.156 - - [15/Jun/2022 10:56:16] \"GET /default/row/62 HTTP/1.1\" 200 -\n",
      "132.198.10.156 - - [15/Jun/2022 10:56:16] \"\u001b[33mGET /static/jsmol/JSmol.min.js HTTP/1.1\u001b[0m\" 404 -\n",
      "132.198.10.156 - - [15/Jun/2022 10:56:16] \"\u001b[36mGET /static/style.css HTTP/1.1\u001b[0m\" 304 -\n",
      "132.198.10.156 - - [15/Jun/2022 10:56:16] \"\u001b[36mGET /static/row.js HTTP/1.1\u001b[0m\" 304 -\n",
      "132.198.10.156 - - [15/Jun/2022 10:56:16] \"\u001b[35m\u001b[1mGET /favicon.ico/ HTTP/1.1\u001b[0m\" 204 -\n",
      "132.198.10.156 - - [15/Jun/2022 10:58:35] \"\u001b[35m\u001b[1mGET /gui/62 HTTP/1.1\u001b[0m\" 204 -\n",
      "132.198.10.156 - - [15/Jun/2022 10:58:50] \"GET /atoms/default/62/xyz HTTP/1.1\" 200 -\n",
      "^C\n"
     ]
    }
   ],
   "source": [
    "! pwd\n",
    "! ase db /home/saheed/research/optimize/SameVolumeCp2k/SameVolumePlusExact.db -w\n"
   ]
  },
  {
   "cell_type": "code",
   "execution_count": 3,
   "id": "a84752f9",
   "metadata": {},
   "outputs": [],
   "source": [
    "import numpy as np\n",
    "import matplotlib.pyplot as plt"
   ]
  },
  {
   "cell_type": "code",
   "execution_count": 4,
   "id": "3dc047a5",
   "metadata": {},
   "outputs": [],
   "source": [
    "data = np.genfromtxt(\"SameVolumePlusExact.csv\", delimiter=\",\", names=True)\n",
    "#!head -n 5 optimized.out.csv\n"
   ]
  },
  {
   "cell_type": "code",
   "execution_count": 5,
   "id": "ba8f9fbf",
   "metadata": {},
   "outputs": [],
   "source": [
    "'''\n",
    "mass = data[:, -1] * 1.66e-24\n",
    "volume = data[:, -3] * 1e-24\n",
    "energy = data[:, -7]\n",
    "struc_id =  data[:, 0].astype(int)\n",
    "density = mass/volume\n",
    "'''\n",
    "\n",
    "\n",
    "#data = np.delete(data, (78, 155, 161))\n",
    "mass = data[\"mass\"] * 1.66e-24\n",
    "volume = data[\"volume\"] * 1e-24\n",
    "energy = data[\"energy\"]\n",
    "struc_id =  data[\"id\"].astype(int)\n",
    "density = mass/volume"
   ]
  },
  {
   "cell_type": "code",
   "execution_count": 6,
   "id": "ca5a0a89",
   "metadata": {},
   "outputs": [
    {
     "data": {
      "text/plain": [
       "473"
      ]
     },
     "execution_count": 6,
     "metadata": {},
     "output_type": "execute_result"
    }
   ],
   "source": [
    "len(density)"
   ]
  },
  {
   "cell_type": "code",
   "execution_count": 7,
   "id": "aa241d6f",
   "metadata": {},
   "outputs": [
    {
     "name": "stdout",
     "output_type": "stream",
     "text": [
      "-5677.8318756262 -5664.0071041329\n"
     ]
    },
    {
     "ename": "NameError",
     "evalue": "name 'done_energy' is not defined",
     "output_type": "error",
     "traceback": [
      "\u001b[0;31m---------------------------------------------------------------------------\u001b[0m",
      "\u001b[0;31mNameError\u001b[0m                                 Traceback (most recent call last)",
      "\u001b[0;32m/tmp/ipykernel_127958/2332257625.py\u001b[0m in \u001b[0;36m<module>\u001b[0;34m\u001b[0m\n\u001b[1;32m      1\u001b[0m \u001b[0mprint\u001b[0m\u001b[0;34m(\u001b[0m\u001b[0mmin\u001b[0m\u001b[0;34m(\u001b[0m\u001b[0menergy\u001b[0m\u001b[0;34m)\u001b[0m\u001b[0;34m,\u001b[0m\u001b[0mmax\u001b[0m\u001b[0;34m(\u001b[0m\u001b[0menergy\u001b[0m\u001b[0;34m)\u001b[0m\u001b[0;34m)\u001b[0m\u001b[0;34m\u001b[0m\u001b[0;34m\u001b[0m\u001b[0m\n\u001b[0;32m----> 2\u001b[0;31m \u001b[0mprint\u001b[0m\u001b[0;34m(\u001b[0m\u001b[0mmin\u001b[0m\u001b[0;34m(\u001b[0m\u001b[0mdone_energy\u001b[0m\u001b[0;34m)\u001b[0m\u001b[0;34m,\u001b[0m\u001b[0mmax\u001b[0m\u001b[0;34m(\u001b[0m\u001b[0mdone_energy\u001b[0m\u001b[0;34m)\u001b[0m\u001b[0;34m)\u001b[0m\u001b[0;34m\u001b[0m\u001b[0;34m\u001b[0m\u001b[0m\n\u001b[0m",
      "\u001b[0;31mNameError\u001b[0m: name 'done_energy' is not defined"
     ]
    }
   ],
   "source": [
    "print(min(energy),max(energy))\n",
    "print(min(done_energy),max(done_energy))"
   ]
  },
  {
   "cell_type": "code",
   "execution_count": 8,
   "id": "fa41d9e4",
   "metadata": {},
   "outputs": [
    {
     "data": {
      "image/png": "[encoded data removed]",
      "text/plain": [
       "<Figure size 864x576 with 1 Axes>"
      ]
     },
     "metadata": {
      "needs_background": "light"
     },
     "output_type": "display_data"
    }
   ],
   "source": [
    "plt.figure(figsize=(12,8), )\n",
    "plt.hist(energy, bins= \"auto\")\n",
    "plt.xlabel(\"Energy\", fontsize=20)\n",
    "plt.ylabel(\"Frequency\", fontsize=20)\n",
    "plt.xticks( fontsize=14)\n",
    "plt.yticks( fontsize=14)\n",
    "plt.show()\n",
    "#plt.savefig(\"Energy Hist.svg\")\n"
   ]
  },
  {
   "cell_type": "code",
   "execution_count": 10,
   "id": "4681e9da",
   "metadata": {},
   "outputs": [],
   "source": [
    "done = np.genfromtxt(\"done.csv\", delimiter=\",\", names=True)\n",
    "\n",
    "#data = np.delete(data, (78, 155, 161))\n",
    "done_mass = done[\"mass\"] * 1.66e-24\n",
    "done_volume = done[\"volume\"] * 1e-24\n",
    "done_energy = done[\"energy\"]\n",
    "done_struc_id =  done[\"id\"].astype(int)\n",
    "done_density = done_mass/done_volume\n",
    "\n",
    "\n",
    "\n",
    "\n"
   ]
  },
  {
   "cell_type": "code",
   "execution_count": 12,
   "id": "bbf3702d",
   "metadata": {},
   "outputs": [
    {
     "data": {
      "image/png": "[encoded data removed]",
      "text/plain": [
       "<Figure size 864x576 with 1 Axes>"
      ]
     },
     "metadata": {
      "needs_background": "light"
     },
     "output_type": "display_data"
    }
   ],
   "source": [
    "#cutoff = -5740\n",
    "exact_energy =-5677.8318756262 \n",
    "plt.figure(figsize=(12,8))\n",
    "plt.title(\"Preliminary Landscape\")\n",
    "plt.scatter(done_density, done_energy, alpha=0.5, s=50)\n",
    "plt.ylabel(\"Energy (eV)\", fontsize=14)#plt.xlabel(\"Density (g/cm^3)\", fontsize=14)\n",
    "plt.xticks( fontsize=14)\n",
    "plt.yticks( fontsize=14)\n",
    "plt.title(\"CP2K\", fontsize=20)\n",
    "plt.axhline( exact_energy )\n",
    "plt.axhline(-5676.1622958512)\n",
    "#plt.axhline( cutoff )\n",
    "#plt.savefig(\"Preliminary Land Scape.svg\", format=\"svg\")\n",
    "#plt.savefig(\"Preliminary Land Scape.jpg\")\n",
    "plt.show()"
   ]
  },
  {
   "cell_type": "code",
   "execution_count": 139,
   "id": "504d4f73",
   "metadata": {},
   "outputs": [
    {
     "data": {
      "text/plain": [
       "-5676.1622958512"
      ]
     },
     "execution_count": 139,
     "metadata": {},
     "output_type": "execute_result"
    }
   ],
   "source": [
    "exact_energy + 1.669579775"
   ]
  },
  {
   "cell_type": "code",
   "execution_count": 108,
   "id": "e2de3924",
   "metadata": {},
   "outputs": [
    {
     "data": {
      "image/png": "[encoded data removed]",
      "text/plain": [
       "<Figure size 864x576 with 1 Axes>"
      ]
     },
     "metadata": {
      "needs_background": "light"
     },
     "output_type": "display_data"
    }
   ],
   "source": [
    "#cutoff = -5740\n",
    "exact_energy =-5677.8318756262 \n",
    "plt.figure(figsize=(12,8))\n",
    "plt.title(\"Preliminary Landscape\")\n",
    "plt.scatter(density, energy, alpha=0.5, s=50)\n",
    "plt.ylabel(\"Energy (eV)\", fontsize=14)#plt.xlabel(\"Density (g/cm^3)\", fontsize=14)\n",
    "plt.xticks( fontsize=14)\n",
    "plt.yticks( fontsize=14)\n",
    "plt.title(\"CP2K\", fontsize=20)\n",
    "#plt.axhline( exact_energy + 1.669579775*0.75)\n",
    "plt.axhline(-5676.1622958512)\n",
    "#plt.axhline( cutoff )\n",
    "#plt.savefig(\"Preliminary Land Scape.svg\", format=\"svg\")\n",
    "#plt.savefig(\"Preliminary Land Scape.jpg\")\n",
    "plt.show()\n"
   ]
  },
  {
   "cell_type": "code",
   "execution_count": 32,
   "id": "9ab44644",
   "metadata": {},
   "outputs": [
    {
     "data": {
      "image/png": "[encoded data removed]",
      "text/plain": [
       "<Figure size 1152x864 with 2 Axes>"
      ]
     },
     "metadata": {
      "needs_background": "light"
     },
     "output_type": "display_data"
    }
   ],
   "source": [
    "fig, ax = plt.subplots(1, 2, sharey = 'row', figsize = (16,12))\n",
    "ax[0].scatter(density, energy)\n",
    "ax[1].scatter(done_density, done_energy)\n",
    "ax[0].set_ylabel(\"Energy (eV)\", fontsize=20)\n",
    "ax[0].set_xlabel(\"Density (g/cm^3)\", fontsize=20)\n",
    "ax[1].set_xlabel(\"Density (g/cm^3)\", fontsize=20)\n",
    "ax[1].xaxis.set_tick_params(labelsize=18)\n",
    "ax[0].xaxis.set_tick_params(labelsize=18)\n",
    "ax[0].yaxis.set_tick_params(labelsize=18)\n",
    "ax[1].set_title(\"done\", fontsize=24)\n",
    "ax[0].set_title(\"cp2k\", fontsize=24)\n",
    "\n",
    "\n",
    "plt.show()"
   ]
  },
  {
   "cell_type": "code",
   "execution_count": null,
   "id": "949e3371",
   "metadata": {},
   "outputs": [],
   "source": []
  },
  {
   "cell_type": "code",
   "execution_count": null,
   "id": "054cbea5",
   "metadata": {},
   "outputs": [],
   "source": []
  },
  {
   "cell_type": "code",
   "execution_count": 13,
   "id": "ebe23700",
   "metadata": {},
   "outputs": [
    {
     "data": {
      "text/plain": [
       "212"
      ]
     },
     "execution_count": 13,
     "metadata": {},
     "output_type": "execute_result"
    }
   ],
   "source": [
    "done_structures = []\n",
    "for i in range(len(done_mass)):\n",
    "    done_structures.append( {\"id\":done_struc_id[i], \"density\": done_density[i], \"energy\":done_energy[i]})\n",
    "len(done_structures)"
   ]
  },
  {
   "cell_type": "code",
   "execution_count": 14,
   "id": "26f2b62c",
   "metadata": {},
   "outputs": [
    {
     "data": {
      "text/plain": [
       "473"
      ]
     },
     "execution_count": 14,
     "metadata": {},
     "output_type": "execute_result"
    }
   ],
   "source": [
    "structures = []\n",
    "for i in range(len(mass)):\n",
    "    structures.append( {\"id\":struc_id[i], \"density\": density[i], \"energy\":energy[i]})\n",
    "    \n",
    "len(structures)"
   ]
  },
  {
   "cell_type": "code",
   "execution_count": 15,
   "id": "f1f0e815",
   "metadata": {},
   "outputs": [],
   "source": [
    "structures = sorted(structures, key = lambda i: i['energy'])"
   ]
  },
  {
   "cell_type": "code",
   "execution_count": 16,
   "id": "1e3fa616",
   "metadata": {},
   "outputs": [
    {
     "data": {
      "text/plain": [
       "[{'id': 62, 'density': 1.5406133480704067, 'energy': -5677.8318756262},\n",
       " {'id': 309, 'density': 1.5405389813245818, 'energy': -5677.7038798669},\n",
       " {'id': 82, 'density': 1.5406695283511778, 'energy': -5677.6227062642},\n",
       " {'id': 86, 'density': 1.5404483773499598, 'energy': -5677.6118357741},\n",
       " {'id': 338, 'density': 1.5407047422917475, 'energy': -5677.5890308588},\n",
       " {'id': 351, 'density': 1.5406392675217675, 'energy': -5677.5838084197},\n",
       " {'id': 55, 'density': 1.5407698684142155, 'energy': -5677.529626146},\n",
       " {'id': 187, 'density': 1.5404295302598832, 'energy': -5677.5267212519},\n",
       " {'id': 339, 'density': 1.5403948632794362, 'energy': -5677.5011210967},\n",
       " {'id': 269, 'density': 1.5407744226949591, 'energy': -5677.5009270566},\n",
       " {'id': 181, 'density': 1.540513712184129, 'energy': -5677.4734580548},\n",
       " {'id': 295, 'density': 1.5404172098090843, 'energy': -5677.4623700316},\n",
       " {'id': 371, 'density': 1.5405602956721434, 'energy': -5677.4522494372},\n",
       " {'id': 128, 'density': 1.5403747025812011, 'energy': -5677.4470549697},\n",
       " {'id': 240, 'density': 1.5405736028717707, 'energy': -5677.4416935107},\n",
       " {'id': 404, 'density': 1.5405343716002178, 'energy': -5677.4352976835},\n",
       " {'id': 19, 'density': 1.5408260051807656, 'energy': -5677.4196923584},\n",
       " {'id': 394, 'density': 1.5404192241560826, 'energy': -5677.3987853869},\n",
       " {'id': 310, 'density': 1.5406389393914734, 'energy': -5677.3841936649},\n",
       " {'id': 131, 'density': 1.5408070373844798, 'energy': -5677.3808312091},\n",
       " {'id': 414, 'density': 1.5403725406143245, 'energy': -5677.3704783091},\n",
       " {'id': 8, 'density': 1.540501249168892, 'energy': -5677.3554100672},\n",
       " {'id': 56, 'density': 1.5406051576739728, 'energy': -5677.3475406951},\n",
       " {'id': 361, 'density': 1.540465894669087, 'energy': -5677.3307864877},\n",
       " {'id': 45, 'density': 1.5403283442756253, 'energy': -5677.3248457681},\n",
       " {'id': 27, 'density': 1.54073099718777, 'energy': -5677.3185512706},\n",
       " {'id': 283, 'density': 1.540716280963124, 'energy': -5677.2920601584},\n",
       " {'id': 335, 'density': 1.5404760324308757, 'energy': -5677.2917646263},\n",
       " {'id': 307, 'density': 1.5405713147481443, 'energy': -5677.278514403},\n",
       " {'id': 167, 'density': 1.540464202385216, 'energy': -5677.276115657},\n",
       " {'id': 188, 'density': 1.5405417877153786, 'energy': -5677.2713272819},\n",
       " {'id': 462, 'density': 1.5405252722367557, 'energy': -5677.2663210911},\n",
       " {'id': 401, 'density': 1.5404824075894645, 'energy': -5677.2652063232},\n",
       " {'id': 191, 'density': 1.540345060697365, 'energy': -5677.2648929055},\n",
       " {'id': 272, 'density': 1.5405867012726648, 'energy': -5677.2435306767},\n",
       " {'id': 225, 'density': 1.540558069034159, 'energy': -5677.2317816403},\n",
       " {'id': 304, 'density': 1.540543748860376, 'energy': -5677.2280930392},\n",
       " {'id': 282, 'density': 1.540408625307635, 'energy': -5677.2224821949},\n",
       " {'id': 262, 'density': 1.54049690127848, 'energy': -5677.2181152129},\n",
       " {'id': 226, 'density': 1.540590769476255, 'energy': -5677.2139413149},\n",
       " {'id': 136, 'density': 1.5405758594530603, 'energy': -5677.2096322251},\n",
       " {'id': 92, 'density': 1.5403973363501893, 'energy': -5677.1988275826},\n",
       " {'id': 118, 'density': 1.5405275797789235, 'energy': -5677.1706599096},\n",
       " {'id': 38, 'density': 1.5403962283219113, 'energy': -5677.1614061388},\n",
       " {'id': 280, 'density': 1.5405140373049941, 'energy': -5677.1598666333},\n",
       " {'id': 387, 'density': 1.5406677532963549, 'energy': -5677.1595986327},\n",
       " {'id': 161, 'density': 1.5405093998147363, 'energy': -5677.1562189475},\n",
       " {'id': 259, 'density': 1.5404419089678971, 'energy': -5677.1557814639},\n",
       " {'id': 465, 'density': 1.5405327785976504, 'energy': -5677.1550487863},\n",
       " {'id': 222, 'density': 1.5405110998348917, 'energy': -5677.1459125861},\n",
       " {'id': 456, 'density': 1.540624534442689, 'energy': -5677.1408705991},\n",
       " {'id': 168, 'density': 1.5405591288324298, 'energy': -5677.1362411203},\n",
       " {'id': 370, 'density': 1.5402724889086037, 'energy': -5677.1322666807},\n",
       " {'id': 124, 'density': 1.5405378492759625, 'energy': -5677.1318102161},\n",
       " {'id': 286, 'density': 1.540615789402097, 'energy': -5677.1272162106},\n",
       " {'id': 378, 'density': 1.54061478575905, 'energy': -5677.1234650855},\n",
       " {'id': 221, 'density': 1.5404610721050973, 'energy': -5677.1225126569},\n",
       " {'id': 104, 'density': 1.5404071637256775, 'energy': -5677.1206152696},\n",
       " {'id': 29, 'density': 1.5404426550035386, 'energy': -5677.1196008438},\n",
       " {'id': 281, 'density': 1.540662075064997, 'energy': -5677.1179455783},\n",
       " {'id': 192, 'density': 1.5405949664169967, 'energy': -5677.1133109273},\n",
       " {'id': 340, 'density': 1.5405980598501374, 'energy': -5677.1042689735},\n",
       " {'id': 359, 'density': 1.5404788797331317, 'energy': -5677.0971260942},\n",
       " {'id': 345, 'density': 1.5404887503695186, 'energy': -5677.0899920648},\n",
       " {'id': 197, 'density': 1.5405177435661814, 'energy': -5677.0880246693},\n",
       " {'id': 343, 'density': 1.5404200320311332, 'energy': -5677.0838242103},\n",
       " {'id': 433, 'density': 1.5405789088890762, 'energy': -5677.0774105309},\n",
       " {'id': 169, 'density': 1.5405905016714192, 'energy': -5677.0554655118},\n",
       " {'id': 94, 'density': 1.5406164214266664, 'energy': -5677.0462150189},\n",
       " {'id': 397, 'density': 1.540535415425544, 'energy': -5677.0354720197},\n",
       " {'id': 297, 'density': 1.540511285492661, 'energy': -5677.034176344},\n",
       " {'id': 12, 'density': 1.5404846552172402, 'energy': -5677.0338205772},\n",
       " {'id': 334, 'density': 1.5406303875209406, 'energy': -5677.0320659485},\n",
       " {'id': 434, 'density': 1.5404534631989169, 'energy': -5677.0200140935},\n",
       " {'id': 354, 'density': 1.540593154953303, 'energy': -5677.0156116621},\n",
       " {'id': 220, 'density': 1.5405721300213286, 'energy': -5677.0089746127},\n",
       " {'id': 391, 'density': 1.5405070301011952, 'energy': -5677.0060350555},\n",
       " {'id': 412, 'density': 1.5405608335618726, 'energy': -5677.0059956954},\n",
       " {'id': 323, 'density': 1.5406983355693595, 'energy': -5677.0026544124},\n",
       " {'id': 377, 'density': 1.5404970178030397, 'energy': -5676.9927378576},\n",
       " {'id': 105, 'density': 1.5406552211999223, 'energy': -5676.9877049139},\n",
       " {'id': 305, 'density': 1.5404187276754322, 'energy': -5676.9848778827},\n",
       " {'id': 174, 'density': 1.5405302828011054, 'energy': -5676.9840596683},\n",
       " {'id': 349, 'density': 1.5404568454532566, 'energy': -5676.9655006532},\n",
       " {'id': 252, 'density': 1.5403958969843723, 'energy': -5676.9635395145},\n",
       " {'id': 153, 'density': 1.5405810503653758, 'energy': -5676.9540971648},\n",
       " {'id': 30, 'density': 1.5406001002887266, 'energy': -5676.952397908},\n",
       " {'id': 425, 'density': 1.5404685335587813, 'energy': -5676.9456874728},\n",
       " {'id': 98, 'density': 1.5407233345644786, 'energy': -5676.9431232311},\n",
       " {'id': 292, 'density': 1.5403845755082004, 'energy': -5676.9409819305},\n",
       " {'id': 228, 'density': 1.5404168978254658, 'energy': -5676.937348344},\n",
       " {'id': 396, 'density': 1.5407050573514063, 'energy': -5676.9352554728},\n",
       " {'id': 216, 'density': 1.54077642314072, 'energy': -5676.9325551796},\n",
       " {'id': 264, 'density': 1.5406086774231034, 'energy': -5676.9304206877},\n",
       " {'id': 66, 'density': 1.5405953995291104, 'energy': -5676.9264809408},\n",
       " {'id': 74, 'density': 1.5406198767277388, 'energy': -5676.9187373658},\n",
       " {'id': 106, 'density': 1.5406089279435247, 'energy': -5676.9144270228},\n",
       " {'id': 80, 'density': 1.5407158060009147, 'energy': -5676.9013964201},\n",
       " {'id': 196, 'density': 1.5405750078984894, 'energy': -5676.8998369621},\n",
       " {'id': 17, 'density': 1.5405215609196132, 'energy': -5676.8992481035},\n",
       " {'id': 278, 'density': 1.540662343784068, 'energy': -5676.8958020697},\n",
       " {'id': 243, 'density': 1.5406182064964498, 'energy': -5676.8948012507},\n",
       " {'id': 294, 'density': 1.5406809317876036, 'energy': -5676.8910855972},\n",
       " {'id': 189, 'density': 1.5404271084219732, 'energy': -5676.8904581686},\n",
       " {'id': 164, 'density': 1.5404308002076326, 'energy': -5676.8903458023},\n",
       " {'id': 42, 'density': 1.5406758796975975, 'energy': -5676.8765990057},\n",
       " {'id': 274, 'density': 1.540464117171258, 'energy': -5676.8736658662},\n",
       " {'id': 176, 'density': 1.5405153262783717, 'energy': -5676.8734099306},\n",
       " {'id': 431, 'density': 1.540718923156979, 'energy': -5676.8724987138},\n",
       " {'id': 179, 'density': 1.540463223894187, 'energy': -5676.8716464414},\n",
       " {'id': 268, 'density': 1.5405271562395308, 'energy': -5676.8703187993},\n",
       " {'id': 437, 'density': 1.54038782298335, 'energy': -5676.8622581406},\n",
       " {'id': 148, 'density': 1.5403856166583572, 'energy': -5676.8601838468},\n",
       " {'id': 149, 'density': 1.5404370697998624, 'energy': -5676.8470309406},\n",
       " {'id': 173, 'density': 1.5405596098815204, 'energy': -5676.8459203919},\n",
       " {'id': 208, 'density': 1.5405315106618374, 'energy': -5676.8401146196},\n",
       " {'id': 436, 'density': 1.5406710528913046, 'energy': -5676.832148023},\n",
       " {'id': 111, 'density': 1.540579343947489, 'energy': -5676.8289865472},\n",
       " {'id': 207, 'density': 1.540685827693804, 'energy': -5676.8271679221},\n",
       " {'id': 123, 'density': 1.5404547683564636, 'energy': -5676.8233174588},\n",
       " {'id': 119, 'density': 1.5404505184799484, 'energy': -5676.8224616299},\n",
       " {'id': 214, 'density': 1.5405047363726474, 'energy': -5676.8213631998},\n",
       " {'id': 400, 'density': 1.5406043240049634, 'energy': -5676.8046099856},\n",
       " {'id': 127, 'density': 1.540486145279305, 'energy': -5676.8033389466},\n",
       " {'id': 99, 'density': 1.5405918309805688, 'energy': -5676.7987967265},\n",
       " {'id': 171, 'density': 1.5406333002829407, 'energy': -5676.7982661847},\n",
       " {'id': 472, 'density': 1.5405790375086716, 'energy': -5676.793940842},\n",
       " {'id': 419, 'density': 1.5403821725603402, 'energy': -5676.7936145553},\n",
       " {'id': 210, 'density': 1.5404240635695643, 'energy': -5676.7917634014},\n",
       " {'id': 432, 'density': 1.5403814896427412, 'energy': -5676.7889752004},\n",
       " {'id': 51, 'density': 1.540725149238477, 'energy': -5676.7874629847},\n",
       " {'id': 300, 'density': 1.540632102697933, 'energy': -5676.7853107357},\n",
       " {'id': 205, 'density': 1.5405568391561535, 'energy': -5676.783595802},\n",
       " {'id': 459, 'density': 1.5405994166809396, 'energy': -5676.7828677013},\n",
       " {'id': 16, 'density': 1.5405384308917982, 'energy': -5676.7816272456},\n",
       " {'id': 143, 'density': 1.5404757452894777, 'energy': -5676.7743483102},\n",
       " {'id': 406, 'density': 1.5405281512305882, 'energy': -5676.7718507148},\n",
       " {'id': 139, 'density': 1.5406011250590677, 'energy': -5676.7650912233},\n",
       " {'id': 411, 'density': 1.5406444982860918, 'energy': -5676.7636266996},\n",
       " {'id': 113, 'density': 1.5405315641186146, 'energy': -5676.7621372609},\n",
       " {'id': 132, 'density': 1.5403379780137254, 'energy': -5676.7613746601},\n",
       " {'id': 452, 'density': 1.540631195837312, 'energy': -5676.7601590404},\n",
       " {'id': 398, 'density': 1.5404958985947148, 'energy': -5676.7594930852},\n",
       " {'id': 7, 'density': 1.5403544486255758, 'energy': -5676.7580336787},\n",
       " {'id': 376, 'density': 1.5404496376197818, 'energy': -5676.7578771933},\n",
       " {'id': 266, 'density': 1.5405869202879774, 'energy': -5676.7536956091},\n",
       " {'id': 375, 'density': 1.5407273350272914, 'energy': -5676.7468807537},\n",
       " {'id': 81, 'density': 1.540576387125056, 'energy': -5676.7465690306},\n",
       " {'id': 53, 'density': 1.540317089026061, 'energy': -5676.7463596386},\n",
       " {'id': 24, 'density': 1.5405850101004337, 'energy': -5676.745277654},\n",
       " {'id': 112, 'density': 1.540444577766324, 'energy': -5676.731183488},\n",
       " {'id': 293, 'density': 1.540316811141828, 'energy': -5676.7231350208},\n",
       " {'id': 455, 'density': 1.540439968663706, 'energy': -5676.7217045522},\n",
       " {'id': 290, 'density': 1.5406148156696544, 'energy': -5676.7205663939},\n",
       " {'id': 194, 'density': 1.540666670239508, 'energy': -5676.7127792381},\n",
       " {'id': 157, 'density': 1.5404675619553918, 'energy': -5676.7081659053},\n",
       " {'id': 147, 'density': 1.5406496767814188, 'energy': -5676.7074932326},\n",
       " {'id': 273, 'density': 1.5404944688719324, 'energy': -5676.6995835006},\n",
       " {'id': 85, 'density': 1.5404855369244423, 'energy': -5676.698559469},\n",
       " {'id': 350, 'density': 1.5405905551741144, 'energy': -5676.6954421227},\n",
       " {'id': 457, 'density': 1.5403677272577798, 'energy': -5676.6922919141},\n",
       " {'id': 244, 'density': 1.5406500583191467, 'energy': -5676.6886899182},\n",
       " {'id': 129, 'density': 1.5405749862870117, 'energy': -5676.6777691491},\n",
       " {'id': 110, 'density': 1.5405288860156146, 'energy': -5676.6752812703},\n",
       " {'id': 341, 'density': 1.5407233463656458, 'energy': -5676.6720813794},\n",
       " {'id': 346, 'density': 1.5406626521752984, 'energy': -5676.6697190998},\n",
       " {'id': 182, 'density': 1.5402579297289514, 'energy': -5676.6656588059},\n",
       " {'id': 236, 'density': 1.540746446594978, 'energy': -5676.6636832626},\n",
       " {'id': 328, 'density': 1.5403411489995364, 'energy': -5676.6621636233},\n",
       " {'id': 107, 'density': 1.54054690271163, 'energy': -5676.6605584673},\n",
       " {'id': 426, 'density': 1.5404643271270175, 'energy': -5676.6508638687},\n",
       " {'id': 41, 'density': 1.5404771117386353, 'energy': -5676.650386574},\n",
       " {'id': 296, 'density': 1.5405864615820848, 'energy': -5676.643243722},\n",
       " {'id': 374, 'density': 1.5406778604852893, 'energy': -5676.6416963896},\n",
       " {'id': 320, 'density': 1.5406428615848824, 'energy': -5676.6401917424},\n",
       " {'id': 202, 'density': 1.540414417582521, 'energy': -5676.6396292458},\n",
       " {'id': 14, 'density': 1.5405868547170132, 'energy': -5676.6361880374},\n",
       " {'id': 83, 'density': 1.5404716450685336, 'energy': -5676.6345287055},\n",
       " {'id': 248, 'density': 1.5406072813364886, 'energy': -5676.6323941229},\n",
       " {'id': 319, 'density': 1.5405710023199073, 'energy': -5676.6314011478},\n",
       " {'id': 158, 'density': 1.5404909443517363, 'energy': -5676.6305978946},\n",
       " {'id': 257, 'density': 1.5406700282979777, 'energy': -5676.6302894433},\n",
       " {'id': 108, 'density': 1.5407150406886372, 'energy': -5676.6257617323},\n",
       " {'id': 445, 'density': 1.540533745645792, 'energy': -5676.6229040794},\n",
       " {'id': 473, 'density': 1.5404372962443358, 'energy': -5676.6036326283},\n",
       " {'id': 332, 'density': 1.5406062266132565, 'energy': -5676.6022139009},\n",
       " {'id': 96, 'density': 1.5404034947266074, 'energy': -5676.5980420722},\n",
       " {'id': 424, 'density': 1.5406150426372596, 'energy': -5676.5939586052},\n",
       " {'id': 172, 'density': 1.540421913161438, 'energy': -5676.5918907002},\n",
       " {'id': 227, 'density': 1.5403833694941649, 'energy': -5676.585206406},\n",
       " {'id': 403, 'density': 1.540602413835489, 'energy': -5676.5832726655},\n",
       " {'id': 18, 'density': 1.5406969824656613, 'energy': -5676.5816682794},\n",
       " {'id': 201, 'density': 1.540520706601788, 'energy': -5676.5796051518},\n",
       " {'id': 324, 'density': 1.5405088382585026, 'energy': -5676.5743896197},\n",
       " {'id': 232, 'density': 1.5405077392035154, 'energy': -5676.5734009096},\n",
       " {'id': 193, 'density': 1.5405906231202116, 'energy': -5676.5712290434},\n",
       " {'id': 10, 'density': 1.540616921101441, 'energy': -5676.5538231247},\n",
       " {'id': 245, 'density': 1.5403740346758432, 'energy': -5676.5528730526},\n",
       " {'id': 224, 'density': 1.5406600242527921, 'energy': -5676.5506256145},\n",
       " {'id': 260, 'density': 1.5405616544120608, 'energy': -5676.5463110704},\n",
       " {'id': 326, 'density': 1.5406935792539884, 'energy': -5676.5439125229},\n",
       " {'id': 21, 'density': 1.5403922744523122, 'energy': -5676.5435777587},\n",
       " {'id': 177, 'density': 1.540593739018402, 'energy': -5676.543221796},\n",
       " {'id': 36, 'density': 1.5404702349301298, 'energy': -5676.5416590181},\n",
       " {'id': 54, 'density': 1.540571082701521, 'energy': -5676.5355335527},\n",
       " {'id': 277, 'density': 1.5406474799122982, 'energy': -5676.5347002644},\n",
       " {'id': 11, 'density': 1.5403805269913822, 'energy': -5676.5328181315},\n",
       " {'id': 2, 'density': 1.5404616400727074, 'energy': -5676.5275767983},\n",
       " {'id': 289, 'density': 1.5404351782263956, 'energy': -5676.523059148},\n",
       " {'id': 97, 'density': 1.5405169669471648, 'energy': -5676.522248478},\n",
       " {'id': 381, 'density': 1.5405672946649847, 'energy': -5676.5190626399},\n",
       " {'id': 366, 'density': 1.5406361082992666, 'energy': -5676.5159979783},\n",
       " {'id': 198, 'density': 1.5407150003160406, 'energy': -5676.5154162079},\n",
       " {'id': 364, 'density': 1.5404880372489105, 'energy': -5676.5071187568},\n",
       " {'id': 93, 'density': 1.5404234185964634, 'energy': -5676.5051996712},\n",
       " {'id': 316, 'density': 1.5404164643923413, 'energy': -5676.5042466088},\n",
       " {'id': 353, 'density': 1.5406032472762192, 'energy': -5676.4975486249},\n",
       " {'id': 170, 'density': 1.5406817730812536, 'energy': -5676.4946601762},\n",
       " {'id': 242, 'density': 1.5406954626935798, 'energy': -5676.4925113342},\n",
       " {'id': 67, 'density': 1.540652542859738, 'energy': -5676.4901812184},\n",
       " {'id': 288, 'density': 1.5403982284943374, 'energy': -5676.4806764467},\n",
       " {'id': 402, 'density': 1.5405448775422075, 'energy': -5676.4789559563},\n",
       " {'id': 458, 'density': 1.5406179941128486, 'energy': -5676.4782096104},\n",
       " {'id': 368, 'density': 1.540593373457095, 'energy': -5676.4778889998},\n",
       " {'id': 254, 'density': 1.540511996281127, 'energy': -5676.4773010195},\n",
       " {'id': 444, 'density': 1.5404748088118694, 'energy': -5676.4726965917},\n",
       " {'id': 234, 'density': 1.5405675397266254, 'energy': -5676.465646608},\n",
       " {'id': 32, 'density': 1.5406738698355251, 'energy': -5676.4641415242},\n",
       " {'id': 441, 'density': 1.5407032630083357, 'energy': -5676.4624645379},\n",
       " {'id': 347, 'density': 1.5403915136906972, 'energy': -5676.4599546181},\n",
       " {'id': 329, 'density': 1.540646436820744, 'energy': -5676.4567888137},\n",
       " {'id': 156, 'density': 1.5407504469659614, 'energy': -5676.4503956899},\n",
       " {'id': 313, 'density': 1.540418936722397, 'energy': -5676.4413780328},\n",
       " {'id': 49, 'density': 1.5404081615370673, 'energy': -5676.4407271781},\n",
       " {'id': 134, 'density': 1.5404052978827232, 'energy': -5676.4365485854},\n",
       " {'id': 213, 'density': 1.54035013192477, 'energy': -5676.424987316},\n",
       " {'id': 63, 'density': 1.540576916631738, 'energy': -5676.4236412289},\n",
       " {'id': 155, 'density': 1.5405604605246825, 'energy': -5676.4120590038},\n",
       " {'id': 405, 'density': 1.540542485938417, 'energy': -5676.4057391038},\n",
       " {'id': 438, 'density': 1.540692843427673, 'energy': -5676.4008648376},\n",
       " {'id': 88, 'density': 1.5403883318562974, 'energy': -5676.3996455811},\n",
       " {'id': 448, 'density': 1.5403599609016831, 'energy': -5676.3909584279},\n",
       " {'id': 306, 'density': 1.5404658063774472, 'energy': -5676.3833932217},\n",
       " {'id': 466, 'density': 1.5406904368826182, 'energy': -5676.3822650332},\n",
       " {'id': 344, 'density': 1.540594909249867, 'energy': -5676.3760704716},\n",
       " {'id': 135, 'density': 1.5405751295287538, 'energy': -5676.3738651366},\n",
       " {'id': 399, 'density': 1.540540021767247, 'energy': -5676.3704332205},\n",
       " {'id': 363, 'density': 1.5404115982207944, 'energy': -5676.3686786777},\n",
       " {'id': 75, 'density': 1.540602155136543, 'energy': -5676.3670939803},\n",
       " {'id': 390, 'density': 1.5405614151150375, 'energy': -5676.3651768287},\n",
       " {'id': 395, 'density': 1.5404000164184426, 'energy': -5676.3520514419},\n",
       " {'id': 40, 'density': 1.5405336978647914, 'energy': -5676.3518832749},\n",
       " {'id': 418, 'density': 1.5407340534998155, 'energy': -5676.3408468573},\n",
       " {'id': 352, 'density': 1.5406875332016614, 'energy': -5676.3405378617},\n",
       " {'id': 287, 'density': 1.5405886315409487, 'energy': -5676.3400094818},\n",
       " {'id': 211, 'density': 1.5406490869519125, 'energy': -5676.3233942889},\n",
       " {'id': 23, 'density': 1.5406912875021874, 'energy': -5676.3232949788},\n",
       " {'id': 447, 'density': 1.540613281428762, 'energy': -5676.3225679601},\n",
       " {'id': 369, 'density': 1.5404725103423116, 'energy': -5676.3139819547},\n",
       " {'id': 79, 'density': 1.54053097879856, 'energy': -5676.3138131673},\n",
       " {'id': 325, 'density': 1.5405341576275438, 'energy': -5676.3121625102},\n",
       " {'id': 311, 'density': 1.5403269004225562, 'energy': -5676.3070605289},\n",
       " {'id': 382, 'density': 1.5405604495232874, 'energy': -5676.3069303196},\n",
       " {'id': 408, 'density': 1.5405677340361976, 'energy': -5676.3064764181},\n",
       " {'id': 312, 'density': 1.5406702954965394, 'energy': -5676.2998778849},\n",
       " {'id': 389, 'density': 1.5405348143095159, 'energy': -5676.2950425873},\n",
       " {'id': 285, 'density': 1.5406907663540104, 'energy': -5676.2888965003},\n",
       " {'id': 298, 'density': 1.540604156459151, 'energy': -5676.2807423173},\n",
       " {'id': 115, 'density': 1.5406838697526666, 'energy': -5676.2774178461},\n",
       " {'id': 303, 'density': 1.5405159984818977, 'energy': -5676.2748400632},\n",
       " {'id': 57, 'density': 1.5405300399145077, 'energy': -5676.2726791636},\n",
       " {'id': 126, 'density': 1.5403828680982017, 'energy': -5676.2671957435},\n",
       " {'id': 267, 'density': 1.540538219997107, 'energy': -5676.2570904284},\n",
       " {'id': 100, 'density': 1.5406054354544763, 'energy': -5676.2543126055},\n",
       " {'id': 410, 'density': 1.5403690209829568, 'energy': -5676.2540037918},\n",
       " {'id': 165, 'density': 1.5404274700596856, 'energy': -5676.2524425698},\n",
       " {'id': 261, 'density': 1.5405522821124649, 'energy': -5676.2514689375},\n",
       " {'id': 39, 'density': 1.5404849750604273, 'energy': -5676.2503613979},\n",
       " {'id': 137, 'density': 1.540475232566995, 'energy': -5676.2485360288},\n",
       " {'id': 160, 'density': 1.540475388232547, 'energy': -5676.2434586756},\n",
       " {'id': 65, 'density': 1.5404311089312417, 'energy': -5676.2336152682},\n",
       " {'id': 102, 'density': 1.540545404317804, 'energy': -5676.2220668429},\n",
       " {'id': 70, 'density': 1.540512899910585, 'energy': -5676.2081828373},\n",
       " {'id': 357, 'density': 1.5403472578731598, 'energy': -5676.2081718349},\n",
       " {'id': 253, 'density': 1.5405840656297833, 'energy': -5676.2047172099},\n",
       " {'id': 348, 'density': 1.5406437447846049, 'energy': -5676.2040298005},\n",
       " {'id': 380, 'density': 1.5407255183833684, 'energy': -5676.1999910324},\n",
       " {'id': 9, 'density': 1.5403787970637455, 'energy': -5676.1983870197},\n",
       " {'id': 212, 'density': 1.5406110367688663, 'energy': -5676.1969263281},\n",
       " {'id': 373, 'density': 1.5404444985427175, 'energy': -5676.1907457064},\n",
       " {'id': 427, 'density': 1.5405754471156596, 'energy': -5676.1793014721},\n",
       " {'id': 37, 'density': 1.540671559562143, 'energy': -5676.1695512121},\n",
       " {'id': 238, 'density': 1.5404713394828717, 'energy': -5676.1600260561},\n",
       " {'id': 5, 'density': 1.5403939962295619, 'energy': -5676.1574384688},\n",
       " {'id': 162, 'density': 1.5406512656347793, 'energy': -5676.1548638583},\n",
       " {'id': 175, 'density': 1.5403678753121746, 'energy': -5676.153918588},\n",
       " {'id': 33, 'density': 1.540635231446411, 'energy': -5676.1422046805},\n",
       " {'id': 35, 'density': 1.5405883271152185, 'energy': -5676.1373629885},\n",
       " {'id': 317, 'density': 1.5404903189541095, 'energy': -5676.1337314538},\n",
       " {'id': 407, 'density': 1.5405434271306964, 'energy': -5676.1257870198},\n",
       " {'id': 215, 'density': 1.5406054878824516, 'energy': -5676.1254398317},\n",
       " {'id': 330, 'density': 1.5406117610325447, 'energy': -5676.1215306634},\n",
       " {'id': 48, 'density': 1.5405350702089609, 'energy': -5676.1211569459},\n",
       " {'id': 58, 'density': 1.5406919198492075, 'energy': -5676.1201813908},\n",
       " {'id': 199, 'density': 1.540594346451405, 'energy': -5676.1197150806},\n",
       " {'id': 413, 'density': 1.5405614133538001, 'energy': -5676.1073955533},\n",
       " {'id': 256, 'density': 1.5403582770203115, 'energy': -5676.1050408067},\n",
       " {'id': 428, 'density': 1.5403239758550493, 'energy': -5676.1032996408},\n",
       " {'id': 308, 'density': 1.5404765853940414, 'energy': -5676.1022001466},\n",
       " {'id': 233, 'density': 1.5405028146231228, 'energy': -5676.0905809978},\n",
       " {'id': 460, 'density': 1.5405132058871023, 'energy': -5676.0861385874},\n",
       " {'id': 151, 'density': 1.5404924134704545, 'energy': -5676.080791501},\n",
       " {'id': 163, 'density': 1.5403968985466518, 'energy': -5676.0805360526},\n",
       " {'id': 263, 'density': 1.5406375076184022, 'energy': -5676.07282089},\n",
       " {'id': 6, 'density': 1.5406200328554107, 'energy': -5676.0725851757},\n",
       " {'id': 185, 'density': 1.5406928748789548, 'energy': -5676.0691921638},\n",
       " {'id': 22, 'density': 1.5406097234033755, 'energy': -5676.0510710398},\n",
       " {'id': 46, 'density': 1.5405877519010227, 'energy': -5676.0502109227},\n",
       " {'id': 291, 'density': 1.5406571790842583, 'energy': -5676.0402212362},\n",
       " {'id': 449, 'density': 1.5405414987142443, 'energy': -5676.0271870648},\n",
       " {'id': 140, 'density': 1.540542112458643, 'energy': -5676.020802124},\n",
       " {'id': 50, 'density': 1.5405993610218387, 'energy': -5676.0101282224},\n",
       " {'id': 231, 'density': 1.5404094157699175, 'energy': -5676.0088784204},\n",
       " {'id': 52, 'density': 1.5404770735593074, 'energy': -5676.0080922684},\n",
       " {'id': 229, 'density': 1.5404596134615325, 'energy': -5676.0074015978},\n",
       " {'id': 251, 'density': 1.5406500552236648, 'energy': -5676.0073680442},\n",
       " {'id': 122, 'density': 1.5404823909239282, 'energy': -5675.9891356175},\n",
       " {'id': 103, 'density': 1.540380617011227, 'energy': -5675.9828586003},\n",
       " {'id': 133, 'density': 1.5405706122373592, 'energy': -5675.9644540869},\n",
       " {'id': 159, 'density': 1.5403603738689522, 'energy': -5675.94947683},\n",
       " {'id': 420, 'density': 1.5404873636905048, 'energy': -5675.9480427957},\n",
       " {'id': 218, 'density': 1.5405695200554361, 'energy': -5675.9397573647},\n",
       " {'id': 392, 'density': 1.5405628466215628, 'energy': -5675.9378839181},\n",
       " {'id': 26, 'density': 1.540599905962373, 'energy': -5675.9248998759},\n",
       " {'id': 270, 'density': 1.5404815289669047, 'energy': -5675.917694529},\n",
       " {'id': 333, 'density': 1.5404935826902195, 'energy': -5675.9121020213},\n",
       " {'id': 429, 'density': 1.5405808629772015, 'energy': -5675.9023173871},\n",
       " {'id': 435, 'density': 1.5406186341260428, 'energy': -5675.9018406969},\n",
       " {'id': 421, 'density': 1.5404686271716146, 'energy': -5675.8973130428},\n",
       " {'id': 28, 'density': 1.5406945828276366, 'energy': -5675.8878829833},\n",
       " {'id': 388, 'density': 1.540600694135128, 'energy': -5675.8865212634},\n",
       " {'id': 44, 'density': 1.5405351203047923, 'energy': -5675.8800638146},\n",
       " {'id': 183, 'density': 1.540501114064787, 'energy': -5675.8771135172},\n",
       " {'id': 34, 'density': 1.5406192680870308, 'energy': -5675.8764793816},\n",
       " {'id': 219, 'density': 1.5407496927072493, 'energy': -5675.8690900945},\n",
       " {'id': 206, 'density': 1.5404309309737756, 'energy': -5675.8521089329},\n",
       " {'id': 146, 'density': 1.5405331288709954, 'energy': -5675.8494272614},\n",
       " {'id': 442, 'density': 1.5406040045543608, 'energy': -5675.8487162173},\n",
       " {'id': 367, 'density': 1.5405254320138044, 'energy': -5675.8470611746},\n",
       " {'id': 237, 'density': 1.5406087625640297, 'energy': -5675.8408269069},\n",
       " {'id': 327, 'density': 1.5406548197304044, 'energy': -5675.8382577333},\n",
       " {'id': 461, 'density': 1.540582888991022, 'energy': -5675.8364830504},\n",
       " {'id': 284, 'density': 1.5406238940378856, 'energy': -5675.8355092526},\n",
       " {'id': 336, 'density': 1.540644405755678, 'energy': -5675.8349927023},\n",
       " {'id': 439, 'density': 1.5404951102958626, 'energy': -5675.8316634488},\n",
       " {'id': 385, 'density': 1.5404373575169725, 'energy': -5675.8277488832},\n",
       " {'id': 217, 'density': 1.5407772006681362, 'energy': -5675.8189629214},\n",
       " {'id': 154, 'density': 1.5404017428854726, 'energy': -5675.8086016368},\n",
       " {'id': 318, 'density': 1.540530134301872, 'energy': -5675.804889197},\n",
       " {'id': 142, 'density': 1.540400321003182, 'energy': -5675.792801111},\n",
       " {'id': 114, 'density': 1.5406550966662897, 'energy': -5675.7921847875},\n",
       " {'id': 230, 'density': 1.5403503396208371, 'energy': -5675.7881963793},\n",
       " {'id': 379, 'density': 1.540407486926157, 'energy': -5675.7799181641},\n",
       " {'id': 271, 'density': 1.5404736076610188, 'energy': -5675.7593413871},\n",
       " {'id': 186, 'density': 1.5405507681542054, 'energy': -5675.756993959},\n",
       " {'id': 152, 'density': 1.540343057809781, 'energy': -5675.7564857496},\n",
       " {'id': 141, 'density': 1.5406458249864483, 'energy': -5675.753642671},\n",
       " {'id': 440, 'density': 1.5404168535212204, 'energy': -5675.7528460349},\n",
       " {'id': 89, 'density': 1.5405270830743258, 'energy': -5675.7506164652},\n",
       " {'id': 121, 'density': 1.5406574648240772, 'energy': -5675.709085966},\n",
       " {'id': 415, 'density': 1.5406575766750572, 'energy': -5675.6969806134},\n",
       " {'id': 358, 'density': 1.5405181835103767, 'energy': -5675.6964627199},\n",
       " {'id': 209, 'density': 1.5406409519242998, 'energy': -5675.6723239506},\n",
       " {'id': 1, 'density': 1.5404213811934875, 'energy': -5675.6573118569},\n",
       " {'id': 84, 'density': 1.5403684110276954, 'energy': -5675.6517967353},\n",
       " {'id': 68, 'density': 1.5406316032256762, 'energy': -5675.6484958978},\n",
       " {'id': 20, 'density': 1.5406338644863988, 'energy': -5675.6473532602},\n",
       " {'id': 241, 'density': 1.5403835099999172, 'energy': -5675.6465519659},\n",
       " {'id': 355, 'density': 1.5406817448915973, 'energy': -5675.6437096062},\n",
       " {'id': 469, 'density': 1.5405841596004193, 'energy': -5675.6390522901},\n",
       " {'id': 166, 'density': 1.540640572502188, 'energy': -5675.6354605329},\n",
       " {'id': 249, 'density': 1.540543386989846, 'energy': -5675.6154089976},\n",
       " {'id': 443, 'density': 1.5406456459677151, 'energy': -5675.6085700073},\n",
       " {'id': 468, 'density': 1.5405303096870022, 'energy': -5675.6072904141},\n",
       " {'id': 255, 'density': 1.5405935161786206, 'energy': -5675.5948659356},\n",
       " {'id': 184, 'density': 1.5405221943081813, 'energy': -5675.5658851933},\n",
       " {'id': 138, 'density': 1.5405723727171026, 'energy': -5675.5650552209},\n",
       " {'id': 25, 'density': 1.540332486832235, 'energy': -5675.554003541},\n",
       " {'id': 117, 'density': 1.5404663473584073, 'energy': -5675.542980447},\n",
       " {'id': 150, 'density': 1.540657947650388, 'energy': -5675.5247271182},\n",
       " {'id': 3, 'density': 1.5406052674775337, 'energy': -5675.4801774774},\n",
       " {'id': 393, 'density': 1.54062692830828, 'energy': -5675.4715071574},\n",
       " {'id': 109, 'density': 1.540524058879715, 'energy': -5675.4579258748},\n",
       " {'id': 322, 'density': 1.540600800418442, 'energy': -5675.4515504828},\n",
       " {'id': 246, 'density': 1.540538133279482, 'energy': -5675.4409639824},\n",
       " {'id': 302, 'density': 1.540460398716212, 'energy': -5675.4321469335},\n",
       " {'id': 258, 'density': 1.540429506590865, 'energy': -5675.4084756611},\n",
       " {'id': 64, 'density': 1.5402854674357607, 'energy': -5675.3789317332},\n",
       " {'id': 60, 'density': 1.5404902342318756, 'energy': -5675.3743209033},\n",
       " {'id': 409, 'density': 1.5404809100357253, 'energy': -5675.3645372621},\n",
       " {'id': 223, 'density': 1.5404341134925814, 'energy': -5675.3528670691},\n",
       " {'id': 321, 'density': 1.5405216118443719, 'energy': -5675.3313364614},\n",
       " {'id': 342, 'density': 1.5405146945046961, 'energy': -5675.31760812},\n",
       " {'id': 454, 'density': 1.5406426346666815, 'energy': -5675.3169288137},\n",
       " {'id': 71, 'density': 1.5406499158149103, 'energy': -5675.299793171},\n",
       " {'id': 467, 'density': 1.540490183386548, 'energy': -5675.2970526989},\n",
       " {'id': 72, 'density': 1.5405160894373504, 'energy': -5675.2940335306},\n",
       " {'id': 470, 'density': 1.540446743043836, 'energy': -5675.2858331011},\n",
       " {'id': 235, 'density': 1.5404777195041335, 'energy': -5675.2706791574},\n",
       " {'id': 383, 'density': 1.5406548674014888, 'energy': -5675.2644795463},\n",
       " {'id': 204, 'density': 1.540618934750789, 'energy': -5675.2641240297},\n",
       " {'id': 195, 'density': 1.5406327584773716, 'energy': -5675.2613455749},\n",
       " {'id': 360, 'density': 1.540692959014646, 'energy': -5675.2537831024},\n",
       " {'id': 464, 'density': 1.5405442140725805, 'energy': -5675.2391976802},\n",
       " {'id': 315, 'density': 1.5405041286747863, 'energy': -5675.2053997108},\n",
       " {'id': 125, 'density': 1.5406765738994888, 'energy': -5675.1967579579},\n",
       " {'id': 314, 'density': 1.5407099267654465, 'energy': -5675.183122077},\n",
       " {'id': 279, 'density': 1.5404593539776101, 'energy': -5675.1655517211},\n",
       " {'id': 200, 'density': 1.5403552615915783, 'energy': -5675.142317769},\n",
       " {'id': 423, 'density': 1.5404531664203174, 'energy': -5675.1405914507},\n",
       " {'id': 43, 'density': 1.5404618481553893, 'energy': -5675.1285020202},\n",
       " {'id': 356, 'density': 1.540559299718863, 'energy': -5675.1137419067},\n",
       " {'id': 73, 'density': 1.5405841846988542, 'energy': -5675.0922294366},\n",
       " {'id': 299, 'density': 1.5406565108098669, 'energy': -5675.0820437355},\n",
       " {'id': 59, 'density': 1.5404463242318827, 'energy': -5675.0740916921},\n",
       " {'id': 69, 'density': 1.5406095849894617, 'energy': -5675.0414870686},\n",
       " {'id': 78, 'density': 1.5406933843307586, 'energy': -5674.9986076536},\n",
       " {'id': 87, 'density': 1.5403768236396305, 'energy': -5674.932278215},\n",
       " {'id': 422, 'density': 1.5404013352129613, 'energy': -5674.9118075353},\n",
       " {'id': 90, 'density': 1.540565791059274, 'energy': -5674.896309023},\n",
       " {'id': 450, 'density': 1.5406168976214292, 'energy': -5674.8926753029},\n",
       " {'id': 265, 'density': 1.5406797631746103, 'energy': -5674.8768308696},\n",
       " {'id': 362, 'density': 1.540595539899755, 'energy': -5674.8724883327},\n",
       " {'id': 451, 'density': 1.540367532198109, 'energy': -5674.8689760609},\n",
       " {'id': 95, 'density': 1.540461468670683, 'energy': -5674.8679289082},\n",
       " {'id': 453, 'density': 1.540676704866007, 'energy': -5674.8599252394},\n",
       " {'id': 190, 'density': 1.5404777045774627, 'energy': -5674.8580527836},\n",
       " {'id': 116, 'density': 1.5406561105373964, 'energy': -5674.7340535348},\n",
       " {'id': 331, 'density': 1.5406792102082403, 'energy': -5674.7107562743},\n",
       " {'id': 416, 'density': 1.5404958599803127, 'energy': -5674.7039354602},\n",
       " {'id': 101, 'density': 1.540422549558705, 'energy': -5674.6471056465},\n",
       " {'id': 76, 'density': 1.5407806259585006, 'energy': -5674.6325079032},\n",
       " {'id': 180, 'density': 1.540449564233775, 'energy': -5674.628484043},\n",
       " {'id': 337, 'density': 1.540473544940014, 'energy': -5674.5944942047},\n",
       " {'id': 47, 'density': 1.5405359015487112, 'energy': -5674.5294090767},\n",
       " {'id': 145, 'density': 1.5406611856212336, 'energy': -5674.5221468072},\n",
       " {'id': 77, 'density': 1.5407083793900742, 'energy': -5674.4643094841},\n",
       " {'id': 61, 'density': 1.5406556546774843, 'energy': -5674.3269552982},\n",
       " {'id': 120, 'density': 1.5405421215224275, 'energy': -5674.3255941772},\n",
       " {'id': 247, 'density': 1.5404094687083218, 'energy': -5674.1732619485},\n",
       " {'id': 417, 'density': 1.5404744105298278, 'energy': -5674.1396377019},\n",
       " {'id': 250, 'density': 1.540496902032448, 'energy': -5674.1171450581},\n",
       " {'id': 144, 'density': 1.5404659928260882, 'energy': -5674.0113086973},\n",
       " {'id': 178, 'density': 1.540678611013586, 'energy': -5673.997719594},\n",
       " {'id': 4, 'density': 1.5406148583222823, 'energy': -5673.9539506256},\n",
       " {'id': 430, 'density': 1.5404927223128986, 'energy': -5673.8958328599},\n",
       " {'id': 365, 'density': 1.5404119329952697, 'energy': -5673.8656543102},\n",
       " {'id': 15, 'density': 1.5404542422965442, 'energy': -5673.8651736207},\n",
       " {'id': 91, 'density': 1.5405178111523399, 'energy': -5673.8103744603},\n",
       " {'id': 446, 'density': 1.5406150769241302, 'energy': -5673.725242945},\n",
       " {'id': 372, 'density': 1.5406019460629454, 'energy': -5673.7037302695},\n",
       " {'id': 463, 'density': 1.540604275426809, 'energy': -5673.7003428269},\n",
       " {'id': 31, 'density': 1.5406769137276892, 'energy': -5673.3263255493},\n",
       " {'id': 471, 'density': 1.5404945746967946, 'energy': -5673.078188645},\n",
       " {'id': 384, 'density': 1.5404308217656413, 'energy': -5673.0199714887},\n",
       " {'id': 275, 'density': 1.5406300274671356, 'energy': -5672.8162159468},\n",
       " {'id': 13, 'density': 1.5404219503277905, 'energy': -5672.4209326974},\n",
       " {'id': 301, 'density': 1.5407436503320255, 'energy': -5671.4707841978},\n",
       " {'id': 130, 'density': 1.5404356064812241, 'energy': -5671.1530455902},\n",
       " {'id': 203, 'density': 1.5406603912509442, 'energy': -5670.5884925643},\n",
       " {'id': 386, 'density': 1.5403878138516187, 'energy': -5667.7771372077},\n",
       " {'id': 276, 'density': 1.5405573286874483, 'energy': -5664.4048064657},\n",
       " {'id': 239, 'density': 1.5404417643508772, 'energy': -5664.0071041329}]"
      ]
     },
     "execution_count": 16,
     "metadata": {},
     "output_type": "execute_result"
    }
   ],
   "source": [
    "structures"
   ]
  },
  {
   "cell_type": "code",
   "execution_count": 23,
   "id": "a1e2a394",
   "metadata": {},
   "outputs": [
    {
     "name": "stdout",
     "output_type": "stream",
     "text": [
      "[62, 309, 82, 86, 338, 351, 55, 187, 339, 269, 181, 295, 371, 128, 240, 404, 19, 394, 310, 131, 414, 8, 56, 361, 45, 27, 283, 335, 307, 167, 188, 462, 401, 191, 272, 225, 304, 282, 262, 226, 136, 92, 118, 38, 280, 387, 161, 259, 465, 222, 456, 168, 370, 124, 286, 378, 221, 104, 29, 281, 192, 340, 359, 345, 197, 343, 433, 169, 94, 397, 297, 12, 334, 434, 354, 220, 391, 412, 323, 377, 105, 305, 174, 349, 252, 153, 30, 425, 98, 292, 228, 396, 216, 264, 66, 74, 106, 80, 196, 17]\n"
     ]
    }
   ],
   "source": [
    "print([stru[\"id\"] for stru in structures][:100])\n"
   ]
  },
  {
   "cell_type": "code",
   "execution_count": null,
   "id": "57b6d152",
   "metadata": {},
   "outputs": [],
   "source": []
  },
  {
   "cell_type": "code",
   "execution_count": null,
   "id": "4e9a83a4",
   "metadata": {},
   "outputs": [],
   "source": []
  },
  {
   "cell_type": "code",
   "execution_count": 64,
   "id": "47e25b4e",
   "metadata": {},
   "outputs": [],
   "source": [
    "def select_struc( cut_off_energy, structures):\n",
    "    selected = []\n",
    "    #for i in range(len(mass)):\n",
    "    #    structures.append( {\"id\":struc_id[i], \"density\": density[i], \"energy\":energy[i]})\n",
    "    #    selected =[]\n",
    "    for struc in (structures):/home/saheed/research/optimize/SameVolumeCp2k/\n",
    "        if struc[\"energy\"] <= cut_off_energy:\n",
    "            selected.append(struc)\n",
    "    return selected"
   ]
  },
  {
   "cell_type": "code",
   "execution_count": 100,
   "id": "8d32e821",
   "metadata": {
    "scrolled": true
   },
   "outputs": [
    {
     "name": "stdout",
     "output_type": "stream",
     "text": [
      "128\n",
      "101\n"
     ]
    }
   ],
   "source": [
    "selected_structures = select_struc( -5676.1622958512, structures)\n",
    "print(len(selected_structures))\n",
    "done_selected_structures = select_struc( -5676.1622958512, done_structures)\n",
    "print(len(done_selected_structures))\n"
   ]
  },
  {
   "cell_type": "code",
   "execution_count": 141,
   "id": "c351c7d3",
   "metadata": {},
   "outputs": [],
   "source": [
    "selected_structures = sorted(selected_structures, key = lambda i: i['energy'])\n",
    "#done_selected_structures = sorted(done_selected_structures, key = lambda i: i['energy'])"
   ]
  },
  {
   "cell_type": "code",
   "execution_count": 143,
   "id": "cd0af215",
   "metadata": {},
   "outputs": [
    {
     "data": {
      "text/plain": [
       "128"
      ]
     },
     "execution_count": 143,
     "metadata": {},
     "output_type": "execute_result"
    }
   ],
   "source": [
    "len(selected_structures)"
   ]
  },
  {
   "cell_type": "code",
   "execution_count": 102,
   "id": "c2c31568",
   "metadata": {},
   "outputs": [
    {
     "data": {
      "text/plain": [
       "64"
      ]
     },
     "execution_count": 102,
     "metadata": {},
     "output_type": "execute_result"
    }
   ],
   "source": [
    "selected_id = [struc[\"id\"] for struc in selected_structures]\n",
    "done_selected_id = [struc[\"id\"] for struc in done_selected_structures]\n",
    "common_struc = set(selected_id).intersection(set(done_selected_id))\n",
    "len(common_struc)"
   ]
  },
  {
   "cell_type": "code",
   "execution_count": 107,
   "id": "8fa93c50",
   "metadata": {},
   "outputs": [
    {
     "name": "stdout",
     "output_type": "stream",
     "text": [
      "{'id': 37, 'density': 1.540671559562143, 'energy': -5676.1695512121}\n",
      "{'id': 51, 'density': 1.5403787970637455, 'energy': -5676.1643702154}\n",
      "\n",
      "\n",
      "{'id': 62, 'density': 1.5406133480704067, 'energy': -5677.8318756262}\n",
      "{'id': 57, 'density': 1.5406133480704067, 'energy': -5677.826303372}\n"
     ]
    }
   ],
   "source": [
    "print(selected_structures[-1])\n",
    "print(done_selected_structures[-1])\n",
    "print(\"\\n\")\n",
    "print(selected_structures[0])\n",
    "print(done_selected_structures[0])"
   ]
  },
  {
   "cell_type": "code",
   "execution_count": 89,
   "id": "adae22df",
   "metadata": {},
   "outputs": [],
   "source": [
    "for i, struc in enumerate(done_selected_structures):\n",
    "    #print(i, struc)\n",
    "    if struc[\"id\"] in selected_structures[i].values():\n",
    "        print(yes)\n"
   ]
  },
  {
   "cell_type": "code",
   "execution_count": 75,
   "id": "fca3fea4",
   "metadata": {},
   "outputs": [
    {
     "ename": "AttributeError",
     "evalue": "'list' object has no attribute 'item'",
     "output_type": "error",
     "traceback": [
      "\u001b[0;31m---------------------------------------------------------------------------\u001b[0m",
      "\u001b[0;31mAttributeError\u001b[0m                            Traceback (most recent call last)",
      "\u001b[0;32m/tmp/ipykernel_666961/463969569.py\u001b[0m in \u001b[0;36m<module>\u001b[0;34m\u001b[0m\n\u001b[0;32m----> 1\u001b[0;31m \u001b[0mselected_structures\u001b[0m\u001b[0;34m.\u001b[0m\u001b[0mitem\u001b[0m\u001b[0;34m\u001b[0m\u001b[0;34m\u001b[0m\u001b[0m\n\u001b[0m",
      "\u001b[0;31mAttributeError\u001b[0m: 'list' object has no attribute 'item'"
     ]
    }
   ],
   "source": [
    "selected_structures.item"
   ]
  },
  {
   "cell_type": "code",
   "execution_count": null,
   "id": "aa15e1c2",
   "metadata": {},
   "outputs": [],
   "source": []
  },
  {
   "cell_type": "code",
   "execution_count": null,
   "id": "23fb3399",
   "metadata": {},
   "outputs": [],
   "source": []
  },
  {
   "cell_type": "code",
   "execution_count": null,
   "id": "317246a7",
   "metadata": {},
   "outputs": [],
   "source": []
  },
  {
   "cell_type": "code",
   "execution_count": null,
   "id": "14334188",
   "metadata": {},
   "outputs": [],
   "source": [
    "energy_sorted_structures = sorted(structures, key = lambda i: i['energy'])"
   ]
  },
  {
   "cell_type": "code",
   "execution_count": null,
   "id": "ccb2b118",
   "metadata": {
    "scrolled": false
   },
   "outputs": [],
   "source": [
    "energy_sorted_structures"
   ]
  },
  {
   "cell_type": "code",
   "execution_count": null,
   "id": "8cd345fd",
   "metadata": {},
   "outputs": [],
   "source": []
  },
  {
   "cell_type": "code",
   "execution_count": null,
   "id": "ba71fa7f",
   "metadata": {},
   "outputs": [],
   "source": [
    "print(type(selected_structures))\n",
    "\n",
    "print(type(selected_structures[2]))"
   ]
  },
  {
   "cell_type": "code",
   "execution_count": null,
   "id": "11e31e6d",
   "metadata": {
    "scrolled": false
   },
   "outputs": [],
   "source": [
    "density_ = [ x[\"density\"] for x in sorted_structures]\n",
    "energy_ = [ x[\"energy\"] for x in sorted_structures]\n",
    "\n",
    "struc_with_energy = -5759.506420634754\n",
    "plt.figure(figsize=(12,8))\n",
    "plt.title(\"refined Landscape\")\n",
    "plt.scatter(density_, energy_, s=100)\n",
    "plt.ylabel(\"Energy (eV)\")\n",
    "plt.xlabel(\"Density (g/cm^3)\")\n",
    "#plt.axhline(struc_with_energy )\n",
    "#plt.savefig(\"Preliminary Land Scape.svg\", format=\"svg\")\n",
    "#plt.savefig(\"Preliminary Land Scape.jpg\")\n",
    "plt.show()\n",
    "for struc in sorted_structures:\n",
    "    print(struc)"
   ]
  },
  {
   "cell_type": "code",
   "execution_count": null,
   "id": "a0f6d04d",
   "metadata": {},
   "outputs": [],
   "source": [
    "possible =[]\n",
    "for struc in sorted_structures:\n",
    "    possible.append(struc[\"id\"])\n",
    "print(possible)"
   ]
  },
  {
   "cell_type": "code",
   "execution_count": null,
   "id": "dbcf2a10",
   "metadata": {},
   "outputs": [],
   "source": [
    "torchani_data = np.genfromtxt(\"/home/saheed/research/optimize/compression_graph/torchani2x/220btbt/cp2k_vs_ANI2x.dat\", delimiter=\",\", names=True)\n",
    "\n",
    "#torchani_data = np.genfromtxt(\"torchani.csv\", delimiter=\",\", names=True)\n",
    "mass_ani = torchani_data[\"mass\"] * 1.66e-24\n",
    "volume_ani = torchani_data[\"volume\"] * 1e-24\n",
    "energy_ani = torchani_data[\"energy\"]\n",
    "struc_id_ani =  torchani_data[\"id\"].astype(int)\n",
    "density_ani = mass_ani/volume_ani"
   ]
  },
  {
   "cell_type": "code",
   "execution_count": null,
   "id": "c35f5d2f",
   "metadata": {},
   "outputs": [],
   "source": [
    "plt.figure(figsize=(12,8), )\n",
    "plt.hist(energy_ani, bins= \"auto\")\n",
    "plt.xlabel(\"Energy\", fontsize=20)\n",
    "plt.ylabel(\"Frequency\", fontsize=20)\n",
    "plt.xticks( fontsize=14)\n",
    "plt.yticks( fontsize=14)\n",
    "plt.show()\n",
    "#plt.savefig(\"Energy Hist.svg\")\n"
   ]
  },
  {
   "cell_type": "code",
   "execution_count": null,
   "id": "09ba560d",
   "metadata": {},
   "outputs": [],
   "source": [
    "len(energy_ani)"
   ]
  },
  {
   "cell_type": "code",
   "execution_count": null,
   "id": "bd03c6f5",
   "metadata": {},
   "outputs": [],
   "source": [
    "#cutoff = -5740\n",
    "plt.figure(figsize=(12,8))\n",
    "plt.title(\"Preliminary Landscape\")\n",
    "plt.scatter(density_ani, energy_ani)\n",
    "plt.ylabel(\"Energy (eV)\", fontsize=14)\n",
    "plt.xlabel(\"Density (g/cm^3)\", fontsize=14)\n",
    "plt.xticks( fontsize=14)\n",
    "plt.yticks( fontsize=14)\n",
    "#plt.axhline( cutoff )\n",
    "#plt.savefig(\"Preliminary Land Scape.svg\", format=\"svg\")\n",
    "#plt.savefig(\"Preliminary Land Scape.jpg\")\n",
    "plt.show()"
   ]
  },
  {
   "cell_type": "code",
   "execution_count": null,
   "id": "00186e0d",
   "metadata": {},
   "outputs": [],
   "source": [
    "len(energy_ani)"
   ]
  },
  {
   "cell_type": "code",
   "execution_count": null,
   "id": "c1c0ba57",
   "metadata": {},
   "outputs": [],
   "source": [
    "!pwd\n"
   ]
  },
  {
   "cell_type": "code",
   "execution_count": null,
   "id": "294ff597",
   "metadata": {},
   "outputs": [],
   "source": [
    "\n",
    "fig, ax = plt.subplots(1, 2, sharey = 'row', figsize = (20,14))\n",
    "ax[0].scatter(density_ani, energy_ani)\n",
    "ax[1].scatter(density, energy)\n",
    "ax[0].set_ylabel(\"Energy (eV)\", fontsize=20)\n",
    "ax[0].set_xlabel(\"Density (g/cm^3)\", fontsize=20)\n",
    "ax[1].set_xlabel(\"Density (g/cm^3)\", fontsize=20)\n",
    "ax[1].xaxis.set_tick_params(labelsize=18)\n",
    "ax[0].xaxis.set_tick_params(labelsize=18)\n",
    "ax[0].yaxis.set_tick_params(labelsize=18)\n",
    "ax[1].set_title(\"cp2k\", fontsize=24)\n",
    "ax[0].set_title(\"Torchani\", fontsize=24)\n",
    "\n",
    "\n",
    "plt.show()"
   ]
  },
  {
   "cell_type": "code",
   "execution_count": null,
   "id": "4f3c410a",
   "metadata": {},
   "outputs": [],
   "source": [
    "len(energy)\n"
   ]
  },
  {
   "cell_type": "code",
   "execution_count": null,
   "id": "81927f62",
   "metadata": {},
   "outputs": [],
   "source": [
    "len(energy_ani)"
   ]
  },
  {
   "cell_type": "code",
   "execution_count": null,
   "id": "041de5e2",
   "metadata": {},
   "outputs": [],
   "source": [
    "plt.plot(energy, energy, \".\")\n",
    "#plt.xlim((-5000,0))\n",
    "#plt.ylim((-5000,0))\n",
    "plt.show()\n",
    "plt.plot(energy_ani, energy_ani, \".\")\n",
    "#plt.xlim((-5000,0))\n",
    "#plt.ylim((-5000,0))\n",
    "#plt.scatter(energy, energy_ani)\n",
    "plt.show()"
   ]
  },
  {
   "cell_type": "code",
   "execution_count": null,
   "id": "7e5807cf",
   "metadata": {},
   "outputs": [],
   "source": [
    "cp2k_structures = []\n",
    "for i in range(len(mass)):\n",
    "    cp2k_structures.append( {\"id\":struc_id[i], \"density\": density[i], \"energy\":energy[i]})"
   ]
  },
  {
   "cell_type": "code",
   "execution_count": null,
   "id": "2d0c058f",
   "metadata": {},
   "outputs": [],
   "source": [
    "ani2_structures = []\n",
    "for i in range(len(mass_ani)):\n",
    "    ani2_structures.append( {\"id\":struc_id_ani[i], \"density\": density_ani[i], \"energy\":energy_ani[i]})"
   ]
  },
  {
   "cell_type": "code",
   "execution_count": null,
   "id": "c701d823",
   "metadata": {},
   "outputs": [],
   "source": [
    "cp2k_structures_sorted = sorted(cp2k_structures, key = lambda i: i['energy'])\n",
    "ani2_structures_sorted = sorted(ani2_structures, key = lambda i: i['energy'])"
   ]
  },
  {
   "cell_type": "code",
   "execution_count": null,
   "id": "7fd7a5f3",
   "metadata": {},
   "outputs": [],
   "source": [
    "cp2k_structures_sorted\n"
   ]
  },
  {
   "cell_type": "code",
   "execution_count": null,
   "id": "b3b9caa9",
   "metadata": {},
   "outputs": [],
   "source": [
    "ani2_structures_sorted"
   ]
  },
  {
   "cell_type": "code",
   "execution_count": null,
   "id": "218e1280",
   "metadata": {},
   "outputs": [],
   "source": [
    "!pwd\n"
   ]
  },
  {
   "cell_type": "code",
   "execution_count": null,
   "id": "b16d1133",
   "metadata": {},
   "outputs": [],
   "source": [
    "!pwd"
   ]
  },
  {
   "cell_type": "code",
   "execution_count": null,
   "id": "e4e035d2",
   "metadata": {},
   "outputs": [],
   "source": []
  }
 ],
 "metadata": {
  "kernelspec": {
   "display_name": "Python 3 (ipykernel)",
   "language": "python",
   "name": "python3"
  },
  "language_info": {
   "codemirror_mode": {
    "name": "ipython",
    "version": 3
   },
   "file_extension": ".py",
   "mimetype": "text/x-python",
   "name": "python",
   "nbconvert_exporter": "python",
   "pygments_lexer": "ipython3",
   "version": "3.8.10"
  }
 },
 "nbformat": 4,
 "nbformat_minor": 5
}
